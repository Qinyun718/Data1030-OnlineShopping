{
 "cells": [
  {
   "cell_type": "code",
   "execution_count": 7,
   "metadata": {},
   "outputs": [
    {
     "data": {
      "text/plain": [
       "(12330, 18)"
      ]
     },
     "execution_count": 7,
     "metadata": {},
     "output_type": "execute_result"
    }
   ],
   "source": [
    "import pandas as pd\n",
    "dfOnline = pd.read_csv(\"../data/online_shoppers_intention.csv\")\n",
    "dfOnline.shape"
   ]
  },
  {
   "cell_type": "markdown",
   "metadata": {},
   "source": [
    "Apply MinMaxEncoder or StandardScaler on the continuous features"
   ]
  },
  {
   "cell_type": "code",
   "execution_count": 8,
   "metadata": {},
   "outputs": [],
   "source": [
    "from sklearn.preprocessing import MinMaxScaler\n",
    "from sklearn.preprocessing import StandardScaler\n",
    "\n",
    "scaler1 = MinMaxScaler()\n",
    "MinMax = pd.DataFrame(data = dfOnline[[\"Administrative_Duration\", \"Informational_Duration\", \"ProductRelated_Duration\",\"BounceRates\",\"ExitRates\" ]])\n",
    "dfMinMax = pd.DataFrame(data = scaler1.fit_transform(MinMax))\n",
    "dfMinMax.columns = [\"Administrative_Duration\", \"Informational_Duration\", \"ProductRelated_Duration\",\"BounceRates\",\"ExitRates\"]\n",
    "\n",
    "scaler2 = StandardScaler()\n",
    "Standard = pd.DataFrame(data = dfOnline[[\"Administrative\" ,\"Informational\",\"ProductRelated\",\"PageValues\"]])\n",
    "dfStandard = pd.DataFrame(data = scaler2.fit_transform(Standard))\n",
    "dfStandard.columns = [\"Administrative\" ,\"Informational\",\"ProductRelated\",\"PageValues\" ]"
   ]
  },
  {
   "cell_type": "markdown",
   "metadata": {},
   "source": [
    "Apply OneHotEncoder or OrdinalEncoder on categorical features"
   ]
  },
  {
   "cell_type": "code",
   "execution_count": 9,
   "metadata": {},
   "outputs": [],
   "source": [
    "from sklearn.preprocessing import OrdinalEncoder\n",
    "from sklearn.preprocessing import OneHotEncoder\n",
    "\n",
    "dfOneHot = pd.DataFrame(dfOnline[[\"SpecialDay\",\"Month\",\"OperatingSystems\",\"Browser\",\"Region\",\"TrafficType\",\"VisitorType\", \"Weekend\"]])\n",
    "enc = OneHotEncoder(sparse=False,handle_unknown ='ignore' )\n",
    "allOneHot = enc.fit_transform(dfOneHot)\n",
    "colNames = list(enc.get_feature_names())\n",
    "dfOneHot_new = pd.DataFrame(data = allOneHot)\n",
    "dfOneHot_new.columns = colNames\n",
    "#dfOneHot_new.head()\n",
    "#dfOneHot\n",
    "#print(dfOneHot.isnull().sum(axis=0)/dfOneHot.shape[0])"
   ]
  },
  {
   "cell_type": "markdown",
   "metadata": {},
   "source": [
    "Apply the LabelEncoder on the target variable"
   ]
  },
  {
   "cell_type": "code",
   "execution_count": 10,
   "metadata": {},
   "outputs": [],
   "source": [
    "from sklearn.preprocessing import LabelEncoder\n",
    "tar =  LabelEncoder()\n",
    "TaVar = list(dfOnline[\"Revenue\"])\n",
    "dfTaVar = pd.DataFrame(data = tar.fit_transform(TaVar))\n",
    "dfTaVar.columns = [\"Revenue\"]\n"
   ]
  },
  {
   "cell_type": "markdown",
   "metadata": {},
   "source": [
    "Combine all the preprocessed data together"
   ]
  },
  {
   "cell_type": "code",
   "execution_count": null,
   "metadata": {},
   "outputs": [],
   "source": [
    "frames = [dfOneHot_new,dfMinMax,dfStandard,dfTaVar]\n",
    "dfCombined = pd.concat(frames, axis = 1)\n",
    "dfCombined.head()\n",
    "dfCombined.to_csv('../data/prepocessedData.csv')"
   ]
  },
  {
   "cell_type": "markdown",
   "metadata": {},
   "source": [
    "Check the missing values"
   ]
  },
  {
   "cell_type": "code",
   "execution_count": 16,
   "metadata": {},
   "outputs": [
    {
     "name": "stdout",
     "output_type": "stream",
     "text": [
      "x0_0.0            0.000000\n",
      "x0_0.2            0.000000\n",
      "x0_0.4            0.000000\n",
      "x0_0.6            0.000000\n",
      "x0_0.8            0.000000\n",
      "                    ...   \n",
      "Administrative    0.001135\n",
      "Informational     0.001135\n",
      "ProductRelated    0.001135\n",
      "PageValues        0.000000\n",
      "Revenue           0.000000\n",
      "Length: 81, dtype: float64\n"
     ]
    }
   ],
   "source": [
    "print(dfCombined.isnull().sum(axis=0)/dfCombined.shape[0])"
   ]
  },
  {
   "cell_type": "code",
   "execution_count": null,
   "metadata": {},
   "outputs": [],
   "source": []
  }
 ],
 "metadata": {
  "kernelspec": {
   "display_name": "Python 3",
   "language": "python",
   "name": "python3"
  },
  "language_info": {
   "codemirror_mode": {
    "name": "ipython",
    "version": 3
   },
   "file_extension": ".py",
   "mimetype": "text/x-python",
   "name": "python",
   "nbconvert_exporter": "python",
   "pygments_lexer": "ipython3",
   "version": "3.7.3"
  }
 },
 "nbformat": 4,
 "nbformat_minor": 4
}
